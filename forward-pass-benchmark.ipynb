{
 "cells": [
  {
   "cell_type": "code",
   "execution_count": 2,
   "metadata": {},
   "outputs": [],
   "source": [
    "import numpy as np\n",
    "import timeit\n",
    "\n",
    "import torch\n",
    "from matplotlib import pyplot as plt\n",
    "import seaborn as sns\n",
    "from rich.console import Console\n",
    "from rich.table import Table\n",
    "\n",
    "from models.mixer import MLPMixer\n",
    "from models.lora import LowRankLinearAdapter, adapt_model, merge_adapters\n",
    "from utils.params import count_params, count_trainable_params"
   ]
  },
  {
   "cell_type": "code",
   "execution_count": 3,
   "metadata": {},
   "outputs": [],
   "source": [
    "loaded_dict = torch.load(\"weights/mlp_mixer_imagenette.pth\")"
   ]
  },
  {
   "cell_type": "code",
   "execution_count": 7,
   "metadata": {},
   "outputs": [],
   "source": [
    "mixer = MLPMixer(\n",
    "    image_size=(3, 128, 128),\n",
    "    patch_size=8,\n",
    "    hidden_dim=128,\n",
    "    n_blocks=4,\n",
    "    n_classes=10\n",
    ")\n",
    "\n",
    "mixer = mixer.load_state_dict(loaded_dict['state_dict'])"
   ]
  },
  {
   "cell_type": "code",
   "execution_count": 28,
   "metadata": {},
   "outputs": [],
   "source": [
    "def print_dict(data: dict, title: str = \"Table\"):\n",
    "    # assume data has keys: \"columns\" and \"data\"\n",
    "    console = Console()\n",
    "    table = Table(title=title)\n",
    "    \n",
    "    for column in data[\"columns\"]:\n",
    "        table.add_column(column, justify=\"left\", style=\"cyan\", no_wrap=True)\n",
    "    \n",
    "    for row in data[\"data\"]:\n",
    "        renderable_row = []\n",
    "        for item in row:\n",
    "            renderable_row.append(str(item))\n",
    "        \n",
    "        table.add_row(*renderable_row)\n",
    "    \n",
    "    console.print(table)"
   ]
  },
  {
   "cell_type": "code",
   "execution_count": 29,
   "metadata": {},
   "outputs": [
    {
     "data": {
      "text/html": [
       "<pre style=\"white-space:pre;overflow-x:auto;line-height:normal;font-family:Menlo,'DejaVu Sans Mono',consolas,'Courier New',monospace\"><span style=\"font-style: italic\">                       Linear Layer Paramters                       </span>\n",
       "┏━━━━━━━━━━━━━━┳━━━━━━┳━━━━━━━━━━━━━━┳━━━━━━━━━━━━━━━━━━┳━━━━━━━━━━┓\n",
       "┃<span style=\"font-weight: bold\"> Name         </span>┃<span style=\"font-weight: bold\"> Rank </span>┃<span style=\"font-weight: bold\"> Total params </span>┃<span style=\"font-weight: bold\"> Trainable params </span>┃<span style=\"font-weight: bold\"> Fraction </span>┃\n",
       "┡━━━━━━━━━━━━━━╇━━━━━━╇━━━━━━━━━━━━━━╇━━━━━━━━━━━━━━━━━━╇━━━━━━━━━━┩\n",
       "│<span style=\"color: #008080; text-decoration-color: #008080\"> Linear       </span>│<span style=\"color: #008080; text-decoration-color: #008080\"> -1   </span>│<span style=\"color: #008080; text-decoration-color: #008080\"> 100480       </span>│<span style=\"color: #008080; text-decoration-color: #008080\"> 100480           </span>│<span style=\"color: #008080; text-decoration-color: #008080\"> 1.0      </span>│\n",
       "│<span style=\"color: #008080; text-decoration-color: #008080\"> Linear(LoRA) </span>│<span style=\"color: #008080; text-decoration-color: #008080\"> 2    </span>│<span style=\"color: #008080; text-decoration-color: #008080\"> 102304       </span>│<span style=\"color: #008080; text-decoration-color: #008080\"> 1952             </span>│<span style=\"color: #008080; text-decoration-color: #008080\"> 0.02     </span>│\n",
       "└──────────────┴──────┴──────────────┴──────────────────┴──────────┘\n",
       "</pre>\n"
      ],
      "text/plain": [
       "\u001b[3m                       Linear Layer Paramters                       \u001b[0m\n",
       "┏━━━━━━━━━━━━━━┳━━━━━━┳━━━━━━━━━━━━━━┳━━━━━━━━━━━━━━━━━━┳━━━━━━━━━━┓\n",
       "┃\u001b[1m \u001b[0m\u001b[1mName        \u001b[0m\u001b[1m \u001b[0m┃\u001b[1m \u001b[0m\u001b[1mRank\u001b[0m\u001b[1m \u001b[0m┃\u001b[1m \u001b[0m\u001b[1mTotal params\u001b[0m\u001b[1m \u001b[0m┃\u001b[1m \u001b[0m\u001b[1mTrainable params\u001b[0m\u001b[1m \u001b[0m┃\u001b[1m \u001b[0m\u001b[1mFraction\u001b[0m\u001b[1m \u001b[0m┃\n",
       "┡━━━━━━━━━━━━━━╇━━━━━━╇━━━━━━━━━━━━━━╇━━━━━━━━━━━━━━━━━━╇━━━━━━━━━━┩\n",
       "│\u001b[36m \u001b[0m\u001b[36mLinear      \u001b[0m\u001b[36m \u001b[0m│\u001b[36m \u001b[0m\u001b[36m-1  \u001b[0m\u001b[36m \u001b[0m│\u001b[36m \u001b[0m\u001b[36m100480      \u001b[0m\u001b[36m \u001b[0m│\u001b[36m \u001b[0m\u001b[36m100480          \u001b[0m\u001b[36m \u001b[0m│\u001b[36m \u001b[0m\u001b[36m1.0     \u001b[0m\u001b[36m \u001b[0m│\n",
       "│\u001b[36m \u001b[0m\u001b[36mLinear(LoRA)\u001b[0m\u001b[36m \u001b[0m│\u001b[36m \u001b[0m\u001b[36m2   \u001b[0m\u001b[36m \u001b[0m│\u001b[36m \u001b[0m\u001b[36m102304      \u001b[0m\u001b[36m \u001b[0m│\u001b[36m \u001b[0m\u001b[36m1952            \u001b[0m\u001b[36m \u001b[0m│\u001b[36m \u001b[0m\u001b[36m0.02    \u001b[0m\u001b[36m \u001b[0m│\n",
       "└──────────────┴──────┴──────────────┴──────────────────┴──────────┘\n"
      ]
     },
     "metadata": {},
     "output_type": "display_data"
    }
   ],
   "source": [
    "linear = torch.nn.Linear(28 * 28, 128)\n",
    "\n",
    "params = count_params(linear)\n",
    "trainable_params = count_trainable_params(linear)\n",
    "\n",
    "lora_linear = LowRankLinearAdapter(linear, rank=2)\n",
    "\n",
    "lora_params = count_params(lora_linear)\n",
    "lora_trainable_params = count_trainable_params(lora_linear)\n",
    "\n",
    "print_dict({\n",
    "    \"columns\": [\"Name\", \"Rank\", \"Total params\", \"Trainable params\", \"Fraction\"],\n",
    "    \"data\": [\n",
    "        (\"Linear\", \"-1\", params, trainable_params, round(trainable_params / params, 2)),\n",
    "        (\"Linear(LoRA)\", 2, lora_params, lora_trainable_params, round(lora_trainable_params / lora_params, 2))\n",
    "    ]\n",
    "}, title=\"Linear Layer Paramters\")"
   ]
  },
  {
   "cell_type": "code",
   "execution_count": 5,
   "metadata": {},
   "outputs": [
    {
     "data": {
      "text/html": [
       "<pre style=\"white-space:pre;overflow-x:auto;line-height:normal;font-family:Menlo,'DejaVu Sans Mono',consolas,'Courier New',monospace\"><span style=\"font-style: italic\"> LoRA Linear Layer Paramters </span>\n",
       "┏━━━━━━━━━━━━━━━━━━┳━━━━━━━━┓\n",
       "┃<span style=\"font-weight: bold\"> Parameter        </span>┃<span style=\"font-weight: bold\"> Value  </span>┃\n",
       "┡━━━━━━━━━━━━━━━━━━╇━━━━━━━━┩\n",
       "│<span style=\"color: #008080; text-decoration-color: #008080\"> Total params     </span>│<span style=\"color: #800080; text-decoration-color: #800080\"> 102304 </span>│\n",
       "│<span style=\"color: #008080; text-decoration-color: #008080\"> Trainable params </span>│<span style=\"color: #800080; text-decoration-color: #800080\"> 1952   </span>│\n",
       "└──────────────────┴────────┘\n",
       "</pre>\n"
      ],
      "text/plain": [
       "\u001b[3m LoRA Linear Layer Paramters \u001b[0m\n",
       "┏━━━━━━━━━━━━━━━━━━┳━━━━━━━━┓\n",
       "┃\u001b[1m \u001b[0m\u001b[1mParameter       \u001b[0m\u001b[1m \u001b[0m┃\u001b[1m \u001b[0m\u001b[1mValue \u001b[0m\u001b[1m \u001b[0m┃\n",
       "┡━━━━━━━━━━━━━━━━━━╇━━━━━━━━┩\n",
       "│\u001b[36m \u001b[0m\u001b[36mTotal params    \u001b[0m\u001b[36m \u001b[0m│\u001b[35m \u001b[0m\u001b[35m102304\u001b[0m\u001b[35m \u001b[0m│\n",
       "│\u001b[36m \u001b[0m\u001b[36mTrainable params\u001b[0m\u001b[36m \u001b[0m│\u001b[35m \u001b[0m\u001b[35m1952  \u001b[0m\u001b[35m \u001b[0m│\n",
       "└──────────────────┴────────┘\n"
      ]
     },
     "metadata": {},
     "output_type": "display_data"
    }
   ],
   "source": [
    "lora_linear = LowRankLinearAdapter(linear, rank=2)\n",
    "\n",
    "# re-initialize B to random values rather than all zeros\n",
    "lora_linear._lora._reinit_B(lambda r, d: torch.randn((r, d)))\n",
    "print_dict_as_rich_table({\n",
    "    \"Total params\": count_params(lora_linear),\n",
    "    \"Trainable params\": count_trainable_params(lora_linear)\n",
    "}, title=\"LoRA Linear Layer Paramters\")"
   ]
  },
  {
   "cell_type": "code",
   "execution_count": 5,
   "metadata": {},
   "outputs": [],
   "source": [
    "samaple_input = torch.randn(28 * 28).unsqueeze(0)"
   ]
  },
  {
   "cell_type": "code",
   "execution_count": 6,
   "metadata": {},
   "outputs": [],
   "source": [
    "unmerged_output = lora_linear(samaple_input).log_softmax(dim=-1).exp().detach()\n",
    "\n",
    "lora_linear.merge_weights()\n",
    "merged_output = lora_linear(samaple_input).log_softmax(dim=-1).exp().detach()"
   ]
  },
  {
   "cell_type": "code",
   "execution_count": 7,
   "metadata": {},
   "outputs": [
    {
     "data": {
      "text/plain": [
       "<matplotlib.legend.Legend at 0x7f39d67a9790>"
      ]
     },
     "execution_count": 7,
     "metadata": {},
     "output_type": "execute_result"
    },
    {
     "data": {
      "image/png": "[encoded data removed]",
      "text/plain": [
       "<Figure size 400x400 with 1 Axes>"
      ]
     },
     "metadata": {},
     "output_type": "display_data"
    }
   ],
   "source": [
    "plt.figure(figsize=(4, 4))\n",
    "sns.kdeplot(unmerged_output.flatten(), fill=True)\n",
    "# plot with spaced out dashes, more spaced out than with \"--\"\n",
    "sns.kdeplot(merged_output.flatten(), fill=True, label=\"merged\", linestyle=\"-.\")\n",
    "plt.legend()"
   ]
  },
  {
   "cell_type": "markdown",
   "metadata": {},
   "source": [
    "### Let's measure infrence time of merged vs unmerged"
   ]
  },
  {
   "cell_type": "code",
   "execution_count": 8,
   "metadata": {},
   "outputs": [
    {
     "data": {
      "text/plain": [
       "device(type='cuda')"
      ]
     },
     "execution_count": 8,
     "metadata": {},
     "output_type": "execute_result"
    }
   ],
   "source": [
    "device = torch.device(\"cuda\" if torch.cuda.is_available() else \"cpu\")\n",
    "device"
   ]
  },
  {
   "cell_type": "code",
   "execution_count": 9,
   "metadata": {},
   "outputs": [],
   "source": [
    "sample_input = torch.randn(1, 1, 28, 28).to(device)"
   ]
  },
  {
   "cell_type": "code",
   "execution_count": 10,
   "metadata": {},
   "outputs": [
    {
     "data": {
      "text/html": [
       "<pre style=\"white-space:pre;overflow-x:auto;line-height:normal;font-family:Menlo,'DejaVu Sans Mono',consolas,'Courier New',monospace\"><span style=\"font-style: italic\">LoRA Linear Layer Paramters </span>\n",
       "┏━━━━━━━━━━━━━━━━━━┳━━━━━━━┓\n",
       "┃<span style=\"font-weight: bold\"> Parameter        </span>┃<span style=\"font-weight: bold\"> Value </span>┃\n",
       "┡━━━━━━━━━━━━━━━━━━╇━━━━━━━┩\n",
       "│<span style=\"color: #008080; text-decoration-color: #008080\"> Total params     </span>│<span style=\"color: #800080; text-decoration-color: #800080\"> 41770 </span>│\n",
       "│<span style=\"color: #008080; text-decoration-color: #008080\"> Trainable params </span>│<span style=\"color: #800080; text-decoration-color: #800080\"> 41770 </span>│\n",
       "└──────────────────┴───────┘\n",
       "</pre>\n"
      ],
      "text/plain": [
       "\u001b[3mLoRA Linear Layer Paramters \u001b[0m\n",
       "┏━━━━━━━━━━━━━━━━━━┳━━━━━━━┓\n",
       "┃\u001b[1m \u001b[0m\u001b[1mParameter       \u001b[0m\u001b[1m \u001b[0m┃\u001b[1m \u001b[0m\u001b[1mValue\u001b[0m\u001b[1m \u001b[0m┃\n",
       "┡━━━━━━━━━━━━━━━━━━╇━━━━━━━┩\n",
       "│\u001b[36m \u001b[0m\u001b[36mTotal params    \u001b[0m\u001b[36m \u001b[0m│\u001b[35m \u001b[0m\u001b[35m41770\u001b[0m\u001b[35m \u001b[0m│\n",
       "│\u001b[36m \u001b[0m\u001b[36mTrainable params\u001b[0m\u001b[36m \u001b[0m│\u001b[35m \u001b[0m\u001b[35m41770\u001b[0m\u001b[35m \u001b[0m│\n",
       "└──────────────────┴───────┘\n"
      ]
     },
     "metadata": {},
     "output_type": "display_data"
    }
   ],
   "source": [
    "mlp_mixer = MLPMixer(\n",
    "    image_size=(1, 28, 28),\n",
    "    patch_size=7,\n",
    "    hidden_dim=128,\n",
    "    n_blocks=1,\n",
    "    n_classes=10\n",
    ").to(device)\n",
    "\n",
    "print_dict_as_rich_table({\n",
    "    \"Total params\": count_params(mlp_mixer),\n",
    "    \"Trainable params\": count_trainable_params(mlp_mixer)\n",
    "}, title=\"LoRA Linear Layer Paramters\")"
   ]
  },
  {
   "cell_type": "code",
   "execution_count": 11,
   "metadata": {},
   "outputs": [],
   "source": [
    "from torch.utils.benchmark import Timer"
   ]
  },
  {
   "cell_type": "code",
   "execution_count": 12,
   "metadata": {},
   "outputs": [
    {
     "data": {
      "text/plain": [
       "<torch.utils.benchmark.utils.common.Measurement object at 0x7f39d678e690>\n",
       "Base MLP-Mixer Forward Pass\n",
       "  Median: 684.57 us\n",
       "  IQR:    6.74 us (682.14 to 688.88)\n",
       "  1436 measurements, 1 runs per measurement, 1 thread"
      ]
     },
     "execution_count": 12,
     "metadata": {},
     "output_type": "execute_result"
    }
   ],
   "source": [
    "timer = Timer(\n",
    "    stmt=\"mlp_mixer(sample_input)\",\n",
    "    globals={\"mlp_mixer\": mlp_mixer, \"sample_input\": sample_input},\n",
    "    label=\"Base MLP-Mixer Forward Pass\"\n",
    ")\n",
    "\n",
    "times = timer.blocked_autorange(min_run_time=1.0)\n",
    "times"
   ]
  },
  {
   "cell_type": "code",
   "execution_count": 13,
   "metadata": {},
   "outputs": [
    {
     "data": {
      "text/html": [
       "<pre style=\"white-space:pre;overflow-x:auto;line-height:normal;font-family:Menlo,'DejaVu Sans Mono',consolas,'Courier New',monospace\"><span style=\"font-style: italic\">LoRA Linear Layer Paramters </span>\n",
       "┏━━━━━━━━━━━━━━━━━━┳━━━━━━━┓\n",
       "┃<span style=\"font-weight: bold\"> Parameter        </span>┃<span style=\"font-weight: bold\"> Value </span>┃\n",
       "┡━━━━━━━━━━━━━━━━━━╇━━━━━━━┩\n",
       "│<span style=\"color: #008080; text-decoration-color: #008080\"> Total params     </span>│<span style=\"color: #800080; text-decoration-color: #800080\"> 45334 </span>│\n",
       "│<span style=\"color: #008080; text-decoration-color: #008080\"> Trainable params </span>│<span style=\"color: #800080; text-decoration-color: #800080\"> 4502  </span>│\n",
       "└──────────────────┴───────┘\n",
       "</pre>\n"
      ],
      "text/plain": [
       "\u001b[3mLoRA Linear Layer Paramters \u001b[0m\n",
       "┏━━━━━━━━━━━━━━━━━━┳━━━━━━━┓\n",
       "┃\u001b[1m \u001b[0m\u001b[1mParameter       \u001b[0m\u001b[1m \u001b[0m┃\u001b[1m \u001b[0m\u001b[1mValue\u001b[0m\u001b[1m \u001b[0m┃\n",
       "┡━━━━━━━━━━━━━━━━━━╇━━━━━━━┩\n",
       "│\u001b[36m \u001b[0m\u001b[36mTotal params    \u001b[0m\u001b[36m \u001b[0m│\u001b[35m \u001b[0m\u001b[35m45334\u001b[0m\u001b[35m \u001b[0m│\n",
       "│\u001b[36m \u001b[0m\u001b[36mTrainable params\u001b[0m\u001b[36m \u001b[0m│\u001b[35m \u001b[0m\u001b[35m4502 \u001b[0m\u001b[35m \u001b[0m│\n",
       "└──────────────────┴───────┘\n"
      ]
     },
     "metadata": {},
     "output_type": "display_data"
    }
   ],
   "source": [
    "adapted_mixer = adapt_model(mlp_mixer, low_rank_adapter_type=\"lora\", rank=4)\n",
    "adapted_mixer = adapted_mixer.to(device)\n",
    "\n",
    "print_dict_as_rich_table({\n",
    "    \"Total params\": count_params(adapted_mixer),\n",
    "    \"Trainable params\": count_trainable_params(adapted_mixer)\n",
    "}, title=\"LoRA Linear Layer Paramters\")"
   ]
  },
  {
   "cell_type": "code",
   "execution_count": 14,
   "metadata": {},
   "outputs": [
    {
     "data": {
      "text/plain": [
       "<torch.utils.benchmark.utils.common.Measurement object at 0x7f3b001f5510>\n",
       "LoRA MLP-Mixer Forward Pass (Unmerged)\n",
       "  Median: 1.35 ms\n",
       "  IQR:    0.10 ms (1.28 to 1.39)\n",
       "  8 measurements, 100 runs per measurement, 1 thread"
      ]
     },
     "execution_count": 14,
     "metadata": {},
     "output_type": "execute_result"
    }
   ],
   "source": [
    "timer = Timer(\n",
    "    stmt=\"adapted_mixer(sample_input)\",\n",
    "    globals={\"adapted_mixer\": adapted_mixer, \"sample_input\": sample_input},\n",
    "    label=\"LoRA MLP-Mixer Forward Pass (Unmerged)\"\n",
    ")\n",
    "\n",
    "times = timer.blocked_autorange(min_run_time=1.0)\n",
    "times"
   ]
  },
  {
   "cell_type": "code",
   "execution_count": 15,
   "metadata": {},
   "outputs": [],
   "source": [
    "merge_adapters(adapted_mixer)"
   ]
  },
  {
   "cell_type": "code",
   "execution_count": 16,
   "metadata": {},
   "outputs": [
    {
     "data": {
      "text/plain": [
       "<torch.utils.benchmark.utils.common.Measurement object at 0x7f39c4d9ff90>\n",
       "LoRA MLP-Mixer Forward Pass (Merged)\n",
       "  Median: 690.48 us\n",
       "  IQR:    12.14 us (688.32 to 700.45)\n",
       "  8 measurements, 1000 runs per measurement, 1 thread"
      ]
     },
     "execution_count": 16,
     "metadata": {},
     "output_type": "execute_result"
    }
   ],
   "source": [
    "timer = Timer(\n",
    "    stmt=\"adapted_mixer(sample_input)\",\n",
    "    globals={\"adapted_mixer\": adapted_mixer, \"sample_input\": sample_input},\n",
    "    label=\"LoRA MLP-Mixer Forward Pass (Merged)\"\n",
    ")\n",
    "\n",
    "times = timer.blocked_autorange(min_run_time=5)\n",
    "times"
   ]
  },
  {
   "cell_type": "code",
   "execution_count": null,
   "metadata": {},
   "outputs": [],
   "source": [
    "reference_times = timeit.repeat(lambda: mlp_mixer(sample_input), number=10000, repeat=20)"
   ]
  },
  {
   "cell_type": "code",
   "execution_count": null,
   "metadata": {},
   "outputs": [],
   "source": [
    "lora_linear.unmerge_weights()\n",
    "unmerged_times = timeit.repeat(lambda: lora_linear(samaple_input), number=10000, repeat=20)"
   ]
  },
  {
   "cell_type": "code",
   "execution_count": null,
   "metadata": {},
   "outputs": [],
   "source": [
    "lora_linear.merge_weights()\n",
    "merged_times = timeit.repeat(lambda: lora_linear(samaple_input), number=10000, repeat=20)"
   ]
  },
  {
   "cell_type": "code",
   "execution_count": null,
   "metadata": {},
   "outputs": [],
   "source": [
    "import statistics\n",
    "\n",
    "print(f\"Unmerged time: {statistics.mean(unmerged_times): .4f}s (±{statistics.stdev(unmerged_times): .4f})\")\n",
    "print(f\"Merged time: {statistics.mean(merged_times): .4f}s (±{statistics.stdev(merged_times): .4f})\")"
   ]
  }
 ],
 "metadata": {
  "kernelspec": {
   "display_name": "my-lora",
   "language": "python",
   "name": "python3"
  },
  "language_info": {
   "codemirror_mode": {
    "name": "ipython",
    "version": 3
   },
   "file_extension": ".py",
   "mimetype": "text/x-python",
   "name": "python",
   "nbconvert_exporter": "python",
   "pygments_lexer": "ipython3",
   "version": "3.11.9"
  }
 },
 "nbformat": 4,
 "nbformat_minor": 2
}
