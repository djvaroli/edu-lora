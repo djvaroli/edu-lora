{
 "cells": [
  {
   "cell_type": "code",
   "execution_count": 1,
   "metadata": {},
   "outputs": [],
   "source": [
    "import pandas as pd\n",
    "from torchvision.datasets import ImageFolder\n",
    "from torchvision.transforms import Compose, ToTensor, Resize, Normalize \n",
    "from torch.utils.data import DataLoader\n",
    "from torch.optim import Adam\n",
    "\n",
    "from data.transforms import flatten_transform, scale_tanh_range\n",
    "from models.mixer import MLPMixer\n",
    "from training.train import train_classifier\n",
    "from viz.plot import plot_training_curves"
   ]
  },
  {
   "cell_type": "code",
   "execution_count": 9,
   "metadata": {},
   "outputs": [],
   "source": [
    "data_transform = Compose([\n",
    "    ToTensor(),\n",
    "    scale_tanh_range(),\n",
    "    Resize((64, 64)),\n",
    "    # flatten_transform()\n",
    "])\n",
    "\n",
    "train_imgs = ImageFolder(\n",
    "    root=\"imagenette2-160/train\",\n",
    "    transform=data_transform\n",
    ")\n",
    "val_imgs = ImageFolder(\n",
    "    root=\"imagenette2-160/val\",\n",
    "    transform=data_transform\n",
    ")"
   ]
  },
  {
   "cell_type": "code",
   "execution_count": 10,
   "metadata": {},
   "outputs": [
    {
     "data": {
      "text/plain": [
       "(tensor([[[ 0.1595,  0.0251, -0.0744,  ...,  0.1543,  0.1607,  0.1848],\n",
       "          [ 0.0412,  0.0158, -0.0642,  ...,  0.1534,  0.1525,  0.1534],\n",
       "          [-0.0153,  0.2299,  0.2388,  ...,  0.1753,  0.1688,  0.1670],\n",
       "          ...,\n",
       "          [-0.0062, -0.0307, -0.0325,  ...,  0.0330,  0.0652, -0.0286],\n",
       "          [-0.0067,  0.0254, -0.0492,  ...,  0.0293,  0.0009,  0.0326],\n",
       "          [-0.0226, -0.0116, -0.0378,  ...,  0.0354, -0.0156,  0.0287]],\n",
       " \n",
       "         [[ 0.1305, -0.0091, -0.0929,  ...,  0.2205,  0.2233,  0.2363],\n",
       "          [ 0.0195, -0.0108, -0.0808,  ...,  0.2132,  0.2082,  0.2015],\n",
       "          [-0.0260,  0.2142,  0.2237,  ...,  0.2220,  0.2137,  0.2099],\n",
       "          ...,\n",
       "          [ 0.1333,  0.0989,  0.0833,  ...,  0.0776,  0.1177,  0.0333],\n",
       "          [ 0.1166,  0.1449,  0.0621,  ...,  0.0810,  0.0493,  0.0787],\n",
       "          [ 0.0852,  0.0939,  0.0657,  ...,  0.0904,  0.0363,  0.0771]],\n",
       " \n",
       "         [[ 0.0523, -0.0419, -0.1970,  ...,  0.1971,  0.1903,  0.1981],\n",
       "          [-0.0736, -0.0707, -0.1963,  ...,  0.1924,  0.1801,  0.1678],\n",
       "          [-0.1409,  0.1115,  0.0929,  ...,  0.2056,  0.1928,  0.1835],\n",
       "          ...,\n",
       "          [ 0.1626,  0.1263,  0.1061,  ...,  0.0425,  0.0641, -0.0341],\n",
       "          [ 0.1277,  0.1568,  0.0760,  ...,  0.0347,  0.0147,  0.0548],\n",
       "          [ 0.0784,  0.0926,  0.0716,  ...,  0.0334, -0.0324, -0.0077]]]),\n",
       " 0)"
      ]
     },
     "execution_count": 10,
     "metadata": {},
     "output_type": "execute_result"
    }
   ],
   "source": [
    "train_imgs[0]"
   ]
  },
  {
   "cell_type": "code",
   "execution_count": 11,
   "metadata": {},
   "outputs": [],
   "source": [
    "import torch\n",
    "from torch import nn\n",
    "\n",
    "class ImagenetteClassifier(nn.Module):\n",
    "    def __init__(\n",
    "        self, \n",
    "        input_size: int, \n",
    "        hidden_size: int, \n",
    "        num_classes: int\n",
    "    ):\n",
    "        super().__init__()\n",
    "        self.model = nn.Sequential(\n",
    "            nn.BatchNorm1d(input_size),\n",
    "            nn.Linear(input_size, hidden_size),\n",
    "            nn.BatchNorm1d(hidden_size),\n",
    "            nn.LeakyReLU(),\n",
    "            nn.Dropout(0.5),\n",
    "            nn.Linear(hidden_size, hidden_size),\n",
    "            nn.BatchNorm1d(hidden_size),\n",
    "            nn.LeakyReLU(),\n",
    "            nn.Dropout(0.5),\n",
    "            nn.Linear(hidden_size, hidden_size),\n",
    "            nn.BatchNorm1d(hidden_size),\n",
    "            nn.LeakyReLU(),\n",
    "            nn.Dropout(0.5),\n",
    "            nn.Linear(hidden_size, num_classes)\n",
    "        )\n",
    "    \n",
    "    def forward(self, inputs: torch.Tensor) -> torch.Tensor:\n",
    "        return self.model(inputs)"
   ]
  },
  {
   "cell_type": "code",
   "execution_count": 12,
   "metadata": {},
   "outputs": [],
   "source": [
    "train_loader = DataLoader(\n",
    "    train_imgs,\n",
    "    batch_size=64,\n",
    "    shuffle=True\n",
    ")\n",
    "\n",
    "val_loader = DataLoader(\n",
    "    val_imgs,\n",
    "    batch_size=64,\n",
    "    shuffle=False\n",
    ")"
   ]
  },
  {
   "cell_type": "code",
   "execution_count": 13,
   "metadata": {},
   "outputs": [],
   "source": [
    "device = torch.device(\"mps\")"
   ]
  },
  {
   "cell_type": "code",
   "execution_count": 14,
   "metadata": {},
   "outputs": [],
   "source": [
    "classifier = MLPMixer(\n",
    "    image_size=(3, 64, 64),\n",
    "    patch_size=16,\n",
    "    hidden_dim=128,\n",
    "    n_classes=len(train_imgs.class_to_idx)\n",
    ").to(device)\n",
    "\n",
    "optimizer = Adam(classifier.parameters(), lr=5e-4)\n",
    "loss_fn = nn.CrossEntropyLoss()"
   ]
  },
  {
   "cell_type": "code",
   "execution_count": 15,
   "metadata": {},
   "outputs": [
    {
     "name": "stderr",
     "output_type": "stream",
     "text": [
      "Training model: 100%|██████████| 1480/1480 [04:41<00:00,  5.25it/s, loss=1.19, eval_loss=1.58, eval_acc=0.479] \n"
     ]
    }
   ],
   "source": [
    "classifier, *metrics_history = train_classifier(\n",
    "    classifier,\n",
    "    optimizer,\n",
    "    loss_fn,\n",
    "    train_loader,\n",
    "    val_loader,\n",
    "    device,\n",
    "    n_epochs=10,\n",
    "    eval_steps=0.1\n",
    ")"
   ]
  },
  {
   "cell_type": "code",
   "execution_count": null,
   "metadata": {},
   "outputs": [],
   "source": [
    "plot_training_curves(*metrics_history, title=\"Imagenette Classifier Training (hidden_size=256)\")"
   ]
  },
  {
   "cell_type": "code",
   "execution_count": null,
   "metadata": {},
   "outputs": [],
   "source": []
  }
 ],
 "metadata": {
  "kernelspec": {
   "display_name": "my-lora",
   "language": "python",
   "name": "python3"
  },
  "language_info": {
   "codemirror_mode": {
    "name": "ipython",
    "version": 3
   },
   "file_extension": ".py",
   "mimetype": "text/x-python",
   "name": "python",
   "nbconvert_exporter": "python",
   "pygments_lexer": "ipython3",
   "version": "3.11.9"
  }
 },
 "nbformat": 4,
 "nbformat_minor": 2
}
