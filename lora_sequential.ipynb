{
 "cells": [
  {
   "cell_type": "code",
   "execution_count": 1,
   "metadata": {},
   "outputs": [],
   "source": [
    "import numpy as np\n",
    "\n",
    "import torch\n",
    "from torch import nn\n",
    "from torch import optim\n",
    "from torch.utils.data import DataLoader\n",
    "from matplotlib import pyplot as plt\n",
    "\n",
    "from lora import adapt_model, LowRankSequential\n",
    "from data.mnist import load_flat_mnist_datasets\n",
    "from training.train import train_classifier\n",
    "from viz.plot import plot_training_curves\n",
    "from utils.params import count_params, count_trainable_params"
   ]
  },
  {
   "cell_type": "code",
   "execution_count": 9,
   "metadata": {},
   "outputs": [],
   "source": [
    "def init_mnist_classifier(hidden_size: int = 128) -> nn.Module:\n",
    "    return nn.Sequential(\n",
    "    nn.Linear(28 * 28, hidden_size),\n",
    "    nn.LeakyReLU(),\n",
    "    nn.Linear(hidden_size, hidden_size),\n",
    "    nn.LeakyReLU(),\n",
    "    nn.Linear(hidden_size, 10)\n",
    ")"
   ]
  },
  {
   "cell_type": "code",
   "execution_count": 10,
   "metadata": {},
   "outputs": [
    {
     "name": "stdout",
     "output_type": "stream",
     "text": [
      "torch.Size([784]) tensor(-0.5000) tensor(0.5000)\n",
      "5\n"
     ]
    },
    {
     "data": {
      "image/png": "[encoded data removed]",
      "text/plain": [
       "<Figure size 200x200 with 1 Axes>"
      ]
     },
     "metadata": {},
     "output_type": "display_data"
    }
   ],
   "source": [
    "mnist_train, mnist_eval = load_flat_mnist_datasets()\n",
    "\n",
    "# flatten MNIST into (28 * 28,) vectors and use a dense classifier\n",
    "sample, targets = mnist_train[0]\n",
    "print(sample.shape, sample.min(), sample.max())\n",
    "\n",
    "plt.figure(figsize=(2, 2))\n",
    "plt.imshow(sample.reshape((28, 28)).numpy())\n",
    "print(targets)"
   ]
  },
  {
   "cell_type": "code",
   "execution_count": 11,
   "metadata": {},
   "outputs": [],
   "source": [
    "train_loader = DataLoader(mnist_train, batch_size=32, shuffle=True)\n",
    "eval_loader = DataLoader(mnist_eval, batch_size=32, shuffle=False)"
   ]
  },
  {
   "cell_type": "code",
   "execution_count": 12,
   "metadata": {},
   "outputs": [],
   "source": [
    "device = torch.device(\"mps\")"
   ]
  },
  {
   "cell_type": "code",
   "execution_count": 19,
   "metadata": {},
   "outputs": [
    {
     "name": "stdout",
     "output_type": "stream",
     "text": [
      "Total params: 1,863,690, trainable params: 1,863,690\n",
      "Total params (LoRA): 1,941,930, trainable params (LoRA): 80,298\n",
      "Model size (LoRA): 1.04, trainable model size (LoRA): 0.04\n"
     ]
    }
   ],
   "source": [
    "classifier = init_mnist_classifier(hidden_size=1024)\n",
    "n_params = count_params(classifier)\n",
    "n_trainable_params = count_trainable_params(classifier)\n",
    "\n",
    "# format to have comma\n",
    "print(f\"Total params: {n_params:,}, trainable params: {n_trainable_params:,}\")\n",
    "\n",
    "lora_classifier = LowRankSequential.from_sequential(classifier, rank=16).to(device)\n",
    "lora_n_params = count_params(lora_classifier)\n",
    "lora_n_trainable_params = count_trainable_params(lora_classifier)\n",
    "print(f\"Total params (LoRA): {lora_n_params:,}, trainable params (LoRA): {lora_n_trainable_params:,}\")\n",
    "\n",
    "lora_model_size = lora_n_params / n_params\n",
    "lora_trainable_model_size = lora_n_trainable_params / n_trainable_params\n",
    "print(f\"Model size (LoRA): {lora_model_size:.2f}, trainable model size (LoRA): {lora_trainable_model_size:.2f}\")\n",
    "\n",
    "optimizer = optim.Adam(lora_classifier.parameters())\n",
    "loss_fn = nn.CrossEntropyLoss()"
   ]
  },
  {
   "cell_type": "markdown",
   "metadata": {},
   "source": []
  },
  {
   "cell_type": "code",
   "execution_count": null,
   "metadata": {},
   "outputs": [],
   "source": [
    "classifier, train_loss_history, eval_loss_history, eval_acc_history = train_classifier(\n",
    "    lora_classifier,\n",
    "    optimizer,\n",
    "    loss_fn,\n",
    "    train_loader,\n",
    "    eval_loader,\n",
    "    device,\n",
    "    n_epochs=1\n",
    ")"
   ]
  },
  {
   "cell_type": "code",
   "execution_count": null,
   "metadata": {},
   "outputs": [],
   "source": [
    "plot_training_curves(\n",
    "    train_loss_history,\n",
    "    eval_loss_history,\n",
    "    eval_acc_history,\n",
    "    title=\"MNIST Classifier Training Curves LoRA(rank=16, alpha=1)\"\n",
    ")"
   ]
  },
  {
   "cell_type": "code",
   "execution_count": null,
   "metadata": {},
   "outputs": [],
   "source": [
    "plt.figure(figsize=(2, 2))\n",
    "plt.imshow(sample.reshape((28, 28)).numpy())"
   ]
  },
  {
   "cell_type": "code",
   "execution_count": null,
   "metadata": {},
   "outputs": [],
   "source": [
    "class_logits = lora_classifier(sample.to(device).unsqueeze(0))"
   ]
  },
  {
   "cell_type": "code",
   "execution_count": null,
   "metadata": {},
   "outputs": [],
   "source": [
    "class_logits.argmax()"
   ]
  },
  {
   "cell_type": "code",
   "execution_count": null,
   "metadata": {},
   "outputs": [],
   "source": [
    "base_class_logits, lora_class_logits = lora_classifier(sample.to(device).unsqueeze(0), separate_lora_output=True)"
   ]
  },
  {
   "cell_type": "code",
   "execution_count": null,
   "metadata": {},
   "outputs": [],
   "source": [
    "base_class_logits, lora_class_logits"
   ]
  },
  {
   "cell_type": "code",
   "execution_count": null,
   "metadata": {},
   "outputs": [],
   "source": [
    "base_class_logits + lora_class_logits, class_logits"
   ]
  },
  {
   "cell_type": "code",
   "execution_count": null,
   "metadata": {},
   "outputs": [],
   "source": []
  }
 ],
 "metadata": {
  "kernelspec": {
   "display_name": "my-lora",
   "language": "python",
   "name": "python3"
  },
  "language_info": {
   "codemirror_mode": {
    "name": "ipython",
    "version": 3
   },
   "file_extension": ".py",
   "mimetype": "text/x-python",
   "name": "python",
   "nbconvert_exporter": "python",
   "pygments_lexer": "ipython3",
   "version": "3.11.9"
  }
 },
 "nbformat": 4,
 "nbformat_minor": 2
}
